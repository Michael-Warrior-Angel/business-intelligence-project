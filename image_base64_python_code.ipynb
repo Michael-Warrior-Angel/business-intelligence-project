{
 "cells": [
  {
   "cell_type": "code",
   "execution_count": 1,
   "id": "eeecfd7b",
   "metadata": {},
   "outputs": [],
   "source": [
    "import base64\n",
    "import pandas as pd\n",
    "import os\n",
    "\n",
    "# Get the directory of the current script or notebook\n",
    "current_dir = os.path.dirname(os.path.abspath(__file__)) if '__file__' in globals() else os.getcwd()\n",
    "\n",
    "# Define the relative path to the images folder\n",
    "image_dir = os.path.join(current_dir, 'train_images')\n",
    "\n",
    "# Create a list to store image data\n",
    "data = []\n",
    "\n",
    "# Loop through images in the directory\n",
    "for image_name in os.listdir(image_dir):\n",
    "    image_path = os.path.join(image_dir, image_name)\n",
    "    # Read the image and encode to Base64\n",
    "    with open(image_path, \"rb\") as image_file:\n",
    "        base64_string = base64.b64encode(image_file.read()).decode('utf-8')\n",
    "        data.append({\"ImageName\": image_name, \"ImageBase64\": base64_string})\n",
    "\n",
    "# Save the DataFrame to an Excel file in the same directory as the script or notebook\n",
    "output_path = os.path.join(current_dir, 'images_base64.xlsx')\n",
    "df = pd.DataFrame(data)\n",
    "df.to_excel(output_path, index=False)"
   ]
  },
  {
   "cell_type": "code",
   "execution_count": null,
   "id": "31211377",
   "metadata": {},
   "outputs": [],
   "source": []
  }
 ],
 "metadata": {
  "kernelspec": {
   "display_name": "Python 3 (ipykernel)",
   "language": "python",
   "name": "python3"
  },
  "language_info": {
   "codemirror_mode": {
    "name": "ipython",
    "version": 3
   },
   "file_extension": ".py",
   "mimetype": "text/x-python",
   "name": "python",
   "nbconvert_exporter": "python",
   "pygments_lexer": "ipython3",
   "version": "3.9.18"
  }
 },
 "nbformat": 4,
 "nbformat_minor": 5
}
